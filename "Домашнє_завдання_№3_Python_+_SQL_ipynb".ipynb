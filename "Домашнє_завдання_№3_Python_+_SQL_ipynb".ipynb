{
  "cells": [
    {
      "cell_type": "markdown",
      "metadata": {
        "id": "view-in-github",
        "colab_type": "text"
      },
      "source": [
        "<a href=\"https://colab.research.google.com/github/ira89l/Home-tasks-/blob/main/%22%D0%94%D0%BE%D0%BC%D0%B0%D1%88%D0%BD%D1%94_%D0%B7%D0%B0%D0%B2%D0%B4%D0%B0%D0%BD%D0%BD%D1%8F_%E2%84%963_Python_%2B_SQL_ipynb%22.ipynb\" target=\"_parent\"><img src=\"https://colab.research.google.com/assets/colab-badge.svg\" alt=\"Open In Colab\"/></a>"
      ]
    },
    {
      "cell_type": "markdown",
      "id": "2153041f",
      "metadata": {
        "id": "2153041f"
      },
      "source": [
        "# Завдання на використання SQL в Python"
      ]
    },
    {
      "cell_type": "markdown",
      "id": "2c1af6e1",
      "metadata": {
        "ExecuteTime": {
          "end_time": "2022-11-27T18:04:46.316592Z",
          "start_time": "2022-11-27T18:04:46.302021Z"
        },
        "id": "2c1af6e1"
      },
      "source": [
        "1.Встановіть бібліотеку `mysql-connector-python` через pip aбо через conda."
      ]
    },
    {
      "cell_type": "code",
      "execution_count": 77,
      "id": "a8fcd64e",
      "metadata": {
        "id": "a8fcd64e",
        "colab": {
          "base_uri": "https://localhost:8080/"
        },
        "outputId": "c8dff3bc-7431-44fc-80a3-7e6ae1453c2b"
      },
      "outputs": [
        {
          "output_type": "stream",
          "name": "stdout",
          "text": [
            "Requirement already satisfied: mysql-connector-python in /usr/local/lib/python3.10/dist-packages (9.1.0)\n"
          ]
        }
      ],
      "source": [
        "!pip install mysql-connector-python"
      ]
    },
    {
      "cell_type": "markdown",
      "id": "eec5551e",
      "metadata": {
        "pycharm": {
          "name": "#%% md\n"
        },
        "id": "eec5551e"
      },
      "source": [
        "2.В змінній `con` створіть підключення до бази даних employees за аналогією того, як це робилось в лекції:"
      ]
    },
    {
      "cell_type": "code",
      "execution_count": 78,
      "id": "e3fff0d8",
      "metadata": {
        "id": "e3fff0d8"
      },
      "outputs": [],
      "source": [
        "import mysql.connector\n",
        "from mysql.connector.connection import MySQLConnection\n",
        "import datetime"
      ]
    },
    {
      "cell_type": "code",
      "source": [
        "con = mysql.connector.connect(user='user1',\n",
        "                              password='7oygWy6P',\n",
        "                              host='3.68.62.36',\n",
        "                              database='employees')"
      ],
      "metadata": {
        "id": "J92LVkQKeCXR"
      },
      "id": "J92LVkQKeCXR",
      "execution_count": 80,
      "outputs": []
    },
    {
      "cell_type": "markdown",
      "id": "8b17a588",
      "metadata": {
        "ExecuteTime": {
          "end_time": "2022-01-26T22:23:01.406330Z",
          "start_time": "2022-01-26T22:23:01.403942Z"
        },
        "pycharm": {
          "name": "#%% md\n"
        },
        "id": "8b17a588"
      },
      "source": [
        "3.Виберіть максимальну і мінімальну дати найму співробітників використовуючи `con.cursor()`. Аби отримати результати в кінці, виконайте `cursor.fetchall()`."
      ]
    },
    {
      "cell_type": "code",
      "execution_count": 82,
      "id": "2d9785de",
      "metadata": {
        "id": "2d9785de",
        "colab": {
          "base_uri": "https://localhost:8080/"
        },
        "outputId": "282cf996-063c-4d97-a188-7befaf4e19a5"
      },
      "outputs": [
        {
          "output_type": "stream",
          "name": "stdout",
          "text": [
            "[(datetime.date(2000, 1, 28), datetime.date(1985, 1, 1))]\n"
          ]
        }
      ],
      "source": [
        "cursor = con.cursor()\n",
        "\n",
        "cursor.execute(\"\"\"\n",
        "    SELECT MAX(hire_date) AS max_hire_date, MIN(hire_date) AS min_hire_date\n",
        "    FROM employees;\n",
        "\"\"\")\n",
        "\n",
        "result = cursor.fetchall()\n",
        "print(result)"
      ]
    },
    {
      "cell_type": "markdown",
      "id": "955dd2fa",
      "metadata": {
        "ExecuteTime": {
          "end_time": "2022-11-27T18:11:33.491134Z",
          "start_time": "2022-11-27T18:11:33.486973Z"
        },
        "id": "955dd2fa"
      },
      "source": [
        "Очікуваний результат:  \n",
        "    `[(datetime.date(2000, 1, 28), datetime.date(1985, 1, 1))]`"
      ]
    },
    {
      "cell_type": "markdown",
      "id": "1d9c214d",
      "metadata": {
        "ExecuteTime": {
          "end_time": "2023-07-14T15:52:49.876166Z",
          "start_time": "2023-07-14T15:52:49.855548Z"
        },
        "id": "1d9c214d"
      },
      "source": [
        "4.Давайте зберемо інформацію про останню ЗП кожного співробіткника в базі. З використанням `con.cursor()` виберіть з таблиці `salaries` для кожного співробітника його номер, останню в базі даних (тобто ту, що відповідає найновішій `to_date`) ЗП, та значення `from_date`, `to_date` для цієї ЗП.\n",
        "\n",
        "Результати запишіть у pandas DataFrame, який збережіть у змінну `res`. Як взяти з курсора назви колонок - вже наведено. На екран виведіть назви колонок в змінній `res`, розмір цього датафрейму та перші 3 записи в ньому.\n",
        "\n",
        "УВАГА! Зверніть увагу, що ЗП може оновлюватись протягом одного дня, тобто є випадки, коли апдейт ЗП був в певний день, скажімо 2001-01-01 і потім стався ще один апдейт ЗП цьому співробітнику цього самого дня. Запит має це враховувати.\n",
        "Також, теоретично ЗП може бути зменшена. Тож, брати дату з максимальною ЗП буде неправильно з точки зору бізнес логіки. Треба саме останнє історичне значення ЗП кожного співробітника."
      ]
    },
    {
      "cell_type": "code",
      "execution_count": 83,
      "id": "f326ba43",
      "metadata": {
        "id": "f326ba43",
        "colab": {
          "base_uri": "https://localhost:8080/",
          "height": 178
        },
        "outputId": "359805de-cb44-42f0-8309-7de4041377d3"
      },
      "outputs": [
        {
          "output_type": "stream",
          "name": "stdout",
          "text": [
            "Назви колонок: ['employee_id', 'salary', 'from_date', 'to_date']\n",
            "Розмір DataFrame: (300180, 4)\n"
          ]
        },
        {
          "output_type": "execute_result",
          "data": {
            "text/plain": [
              "   employee_id  salary   from_date     to_date\n",
              "0        10001   88958  2002-06-22  9999-01-01\n",
              "1        10002   72527  2001-08-02  9999-01-01\n",
              "2        10003   43311  2001-12-01  9999-01-01"
            ],
            "text/html": [
              "\n",
              "  <div id=\"df-be3536cc-20ec-4871-b6ac-5cee6f121e0e\" class=\"colab-df-container\">\n",
              "    <div>\n",
              "<style scoped>\n",
              "    .dataframe tbody tr th:only-of-type {\n",
              "        vertical-align: middle;\n",
              "    }\n",
              "\n",
              "    .dataframe tbody tr th {\n",
              "        vertical-align: top;\n",
              "    }\n",
              "\n",
              "    .dataframe thead th {\n",
              "        text-align: right;\n",
              "    }\n",
              "</style>\n",
              "<table border=\"1\" class=\"dataframe\">\n",
              "  <thead>\n",
              "    <tr style=\"text-align: right;\">\n",
              "      <th></th>\n",
              "      <th>employee_id</th>\n",
              "      <th>salary</th>\n",
              "      <th>from_date</th>\n",
              "      <th>to_date</th>\n",
              "    </tr>\n",
              "  </thead>\n",
              "  <tbody>\n",
              "    <tr>\n",
              "      <th>0</th>\n",
              "      <td>10001</td>\n",
              "      <td>88958</td>\n",
              "      <td>2002-06-22</td>\n",
              "      <td>9999-01-01</td>\n",
              "    </tr>\n",
              "    <tr>\n",
              "      <th>1</th>\n",
              "      <td>10002</td>\n",
              "      <td>72527</td>\n",
              "      <td>2001-08-02</td>\n",
              "      <td>9999-01-01</td>\n",
              "    </tr>\n",
              "    <tr>\n",
              "      <th>2</th>\n",
              "      <td>10003</td>\n",
              "      <td>43311</td>\n",
              "      <td>2001-12-01</td>\n",
              "      <td>9999-01-01</td>\n",
              "    </tr>\n",
              "  </tbody>\n",
              "</table>\n",
              "</div>\n",
              "    <div class=\"colab-df-buttons\">\n",
              "\n",
              "  <div class=\"colab-df-container\">\n",
              "    <button class=\"colab-df-convert\" onclick=\"convertToInteractive('df-be3536cc-20ec-4871-b6ac-5cee6f121e0e')\"\n",
              "            title=\"Convert this dataframe to an interactive table.\"\n",
              "            style=\"display:none;\">\n",
              "\n",
              "  <svg xmlns=\"http://www.w3.org/2000/svg\" height=\"24px\" viewBox=\"0 -960 960 960\">\n",
              "    <path d=\"M120-120v-720h720v720H120Zm60-500h600v-160H180v160Zm220 220h160v-160H400v160Zm0 220h160v-160H400v160ZM180-400h160v-160H180v160Zm440 0h160v-160H620v160ZM180-180h160v-160H180v160Zm440 0h160v-160H620v160Z\"/>\n",
              "  </svg>\n",
              "    </button>\n",
              "\n",
              "  <style>\n",
              "    .colab-df-container {\n",
              "      display:flex;\n",
              "      gap: 12px;\n",
              "    }\n",
              "\n",
              "    .colab-df-convert {\n",
              "      background-color: #E8F0FE;\n",
              "      border: none;\n",
              "      border-radius: 50%;\n",
              "      cursor: pointer;\n",
              "      display: none;\n",
              "      fill: #1967D2;\n",
              "      height: 32px;\n",
              "      padding: 0 0 0 0;\n",
              "      width: 32px;\n",
              "    }\n",
              "\n",
              "    .colab-df-convert:hover {\n",
              "      background-color: #E2EBFA;\n",
              "      box-shadow: 0px 1px 2px rgba(60, 64, 67, 0.3), 0px 1px 3px 1px rgba(60, 64, 67, 0.15);\n",
              "      fill: #174EA6;\n",
              "    }\n",
              "\n",
              "    .colab-df-buttons div {\n",
              "      margin-bottom: 4px;\n",
              "    }\n",
              "\n",
              "    [theme=dark] .colab-df-convert {\n",
              "      background-color: #3B4455;\n",
              "      fill: #D2E3FC;\n",
              "    }\n",
              "\n",
              "    [theme=dark] .colab-df-convert:hover {\n",
              "      background-color: #434B5C;\n",
              "      box-shadow: 0px 1px 3px 1px rgba(0, 0, 0, 0.15);\n",
              "      filter: drop-shadow(0px 1px 2px rgba(0, 0, 0, 0.3));\n",
              "      fill: #FFFFFF;\n",
              "    }\n",
              "  </style>\n",
              "\n",
              "    <script>\n",
              "      const buttonEl =\n",
              "        document.querySelector('#df-be3536cc-20ec-4871-b6ac-5cee6f121e0e button.colab-df-convert');\n",
              "      buttonEl.style.display =\n",
              "        google.colab.kernel.accessAllowed ? 'block' : 'none';\n",
              "\n",
              "      async function convertToInteractive(key) {\n",
              "        const element = document.querySelector('#df-be3536cc-20ec-4871-b6ac-5cee6f121e0e');\n",
              "        const dataTable =\n",
              "          await google.colab.kernel.invokeFunction('convertToInteractive',\n",
              "                                                    [key], {});\n",
              "        if (!dataTable) return;\n",
              "\n",
              "        const docLinkHtml = 'Like what you see? Visit the ' +\n",
              "          '<a target=\"_blank\" href=https://colab.research.google.com/notebooks/data_table.ipynb>data table notebook</a>'\n",
              "          + ' to learn more about interactive tables.';\n",
              "        element.innerHTML = '';\n",
              "        dataTable['output_type'] = 'display_data';\n",
              "        await google.colab.output.renderOutput(dataTable, element);\n",
              "        const docLink = document.createElement('div');\n",
              "        docLink.innerHTML = docLinkHtml;\n",
              "        element.appendChild(docLink);\n",
              "      }\n",
              "    </script>\n",
              "  </div>\n",
              "\n",
              "\n",
              "<div id=\"df-e11cd84e-16c8-46bc-b6d8-a7378ab58d40\">\n",
              "  <button class=\"colab-df-quickchart\" onclick=\"quickchart('df-e11cd84e-16c8-46bc-b6d8-a7378ab58d40')\"\n",
              "            title=\"Suggest charts\"\n",
              "            style=\"display:none;\">\n",
              "\n",
              "<svg xmlns=\"http://www.w3.org/2000/svg\" height=\"24px\"viewBox=\"0 0 24 24\"\n",
              "     width=\"24px\">\n",
              "    <g>\n",
              "        <path d=\"M19 3H5c-1.1 0-2 .9-2 2v14c0 1.1.9 2 2 2h14c1.1 0 2-.9 2-2V5c0-1.1-.9-2-2-2zM9 17H7v-7h2v7zm4 0h-2V7h2v10zm4 0h-2v-4h2v4z\"/>\n",
              "    </g>\n",
              "</svg>\n",
              "  </button>\n",
              "\n",
              "<style>\n",
              "  .colab-df-quickchart {\n",
              "      --bg-color: #E8F0FE;\n",
              "      --fill-color: #1967D2;\n",
              "      --hover-bg-color: #E2EBFA;\n",
              "      --hover-fill-color: #174EA6;\n",
              "      --disabled-fill-color: #AAA;\n",
              "      --disabled-bg-color: #DDD;\n",
              "  }\n",
              "\n",
              "  [theme=dark] .colab-df-quickchart {\n",
              "      --bg-color: #3B4455;\n",
              "      --fill-color: #D2E3FC;\n",
              "      --hover-bg-color: #434B5C;\n",
              "      --hover-fill-color: #FFFFFF;\n",
              "      --disabled-bg-color: #3B4455;\n",
              "      --disabled-fill-color: #666;\n",
              "  }\n",
              "\n",
              "  .colab-df-quickchart {\n",
              "    background-color: var(--bg-color);\n",
              "    border: none;\n",
              "    border-radius: 50%;\n",
              "    cursor: pointer;\n",
              "    display: none;\n",
              "    fill: var(--fill-color);\n",
              "    height: 32px;\n",
              "    padding: 0;\n",
              "    width: 32px;\n",
              "  }\n",
              "\n",
              "  .colab-df-quickchart:hover {\n",
              "    background-color: var(--hover-bg-color);\n",
              "    box-shadow: 0 1px 2px rgba(60, 64, 67, 0.3), 0 1px 3px 1px rgba(60, 64, 67, 0.15);\n",
              "    fill: var(--button-hover-fill-color);\n",
              "  }\n",
              "\n",
              "  .colab-df-quickchart-complete:disabled,\n",
              "  .colab-df-quickchart-complete:disabled:hover {\n",
              "    background-color: var(--disabled-bg-color);\n",
              "    fill: var(--disabled-fill-color);\n",
              "    box-shadow: none;\n",
              "  }\n",
              "\n",
              "  .colab-df-spinner {\n",
              "    border: 2px solid var(--fill-color);\n",
              "    border-color: transparent;\n",
              "    border-bottom-color: var(--fill-color);\n",
              "    animation:\n",
              "      spin 1s steps(1) infinite;\n",
              "  }\n",
              "\n",
              "  @keyframes spin {\n",
              "    0% {\n",
              "      border-color: transparent;\n",
              "      border-bottom-color: var(--fill-color);\n",
              "      border-left-color: var(--fill-color);\n",
              "    }\n",
              "    20% {\n",
              "      border-color: transparent;\n",
              "      border-left-color: var(--fill-color);\n",
              "      border-top-color: var(--fill-color);\n",
              "    }\n",
              "    30% {\n",
              "      border-color: transparent;\n",
              "      border-left-color: var(--fill-color);\n",
              "      border-top-color: var(--fill-color);\n",
              "      border-right-color: var(--fill-color);\n",
              "    }\n",
              "    40% {\n",
              "      border-color: transparent;\n",
              "      border-right-color: var(--fill-color);\n",
              "      border-top-color: var(--fill-color);\n",
              "    }\n",
              "    60% {\n",
              "      border-color: transparent;\n",
              "      border-right-color: var(--fill-color);\n",
              "    }\n",
              "    80% {\n",
              "      border-color: transparent;\n",
              "      border-right-color: var(--fill-color);\n",
              "      border-bottom-color: var(--fill-color);\n",
              "    }\n",
              "    90% {\n",
              "      border-color: transparent;\n",
              "      border-bottom-color: var(--fill-color);\n",
              "    }\n",
              "  }\n",
              "</style>\n",
              "\n",
              "  <script>\n",
              "    async function quickchart(key) {\n",
              "      const quickchartButtonEl =\n",
              "        document.querySelector('#' + key + ' button');\n",
              "      quickchartButtonEl.disabled = true;  // To prevent multiple clicks.\n",
              "      quickchartButtonEl.classList.add('colab-df-spinner');\n",
              "      try {\n",
              "        const charts = await google.colab.kernel.invokeFunction(\n",
              "            'suggestCharts', [key], {});\n",
              "      } catch (error) {\n",
              "        console.error('Error during call to suggestCharts:', error);\n",
              "      }\n",
              "      quickchartButtonEl.classList.remove('colab-df-spinner');\n",
              "      quickchartButtonEl.classList.add('colab-df-quickchart-complete');\n",
              "    }\n",
              "    (() => {\n",
              "      let quickchartButtonEl =\n",
              "        document.querySelector('#df-e11cd84e-16c8-46bc-b6d8-a7378ab58d40 button');\n",
              "      quickchartButtonEl.style.display =\n",
              "        google.colab.kernel.accessAllowed ? 'block' : 'none';\n",
              "    })();\n",
              "  </script>\n",
              "</div>\n",
              "\n",
              "    </div>\n",
              "  </div>\n"
            ],
            "application/vnd.google.colaboratory.intrinsic+json": {
              "type": "dataframe",
              "variable_name": "res"
            }
          },
          "metadata": {},
          "execution_count": 83
        }
      ],
      "source": [
        "import pandas as pd\n",
        "\n",
        "\n",
        "# cursor.execute(\"SHOW TABLES\")\n",
        "# tables = cursor.fetchall()\n",
        "\n",
        "\n",
        "# print(\"Tables in the database:\")\n",
        "# for table in tables:\n",
        "#     print(table[0])\n",
        "\n",
        "# cursor.execute(\"DESCRIBE salaries\")\n",
        "# for column in cursor.fetchall():\n",
        "#     print(column)\n",
        "\n",
        "\n",
        "cursor.execute(\"\"\"\n",
        "    SELECT s.emp_no AS employee_id, s.salary, s.from_date, s.to_date\n",
        "    FROM salaries s\n",
        "    INNER JOIN (\n",
        "        SELECT emp_no, MAX(to_date) AS last_to_date\n",
        "        FROM salaries\n",
        "        GROUP BY emp_no\n",
        "    ) AS latest ON s.emp_no = latest.emp_no\n",
        "                 AND s.to_date = latest.last_to_date\n",
        "\"\"\")\n",
        "\n",
        "\n",
        "columns = [description[0] for description in cursor.description]\n",
        "res = pd.DataFrame(cursor.fetchall(), columns=columns)\n",
        "\n",
        "\n",
        "print(\"Назви колонок:\", res.columns.tolist())\n",
        "print(\"Розмір DataFrame:\", res.shape)\n",
        "res.head(3)"
      ]
    },
    {
      "cell_type": "code",
      "execution_count": null,
      "id": "bf5eb14d",
      "metadata": {
        "ExecuteTime": {
          "end_time": "2023-07-14T16:14:15.617144Z",
          "start_time": "2023-07-14T16:14:15.611369Z"
        },
        "id": "bf5eb14d"
      },
      "outputs": [],
      "source": [
        "field_names = [i[0] for i in cursor.description]"
      ]
    },
    {
      "cell_type": "markdown",
      "id": "fb5676cb",
      "metadata": {
        "id": "fb5676cb"
      },
      "source": [
        "Очікуваний результат:\n",
        "\n",
        "![](https://drive.google.com/uc?export=view&id=1lNvzbAebtkj3C2v-I5AE6HkMH8MTI1kA)"
      ]
    },
    {
      "cell_type": "markdown",
      "id": "e5770b56",
      "metadata": {
        "ExecuteTime": {
          "end_time": "2023-07-14T16:17:31.638485Z",
          "start_time": "2023-07-14T16:17:31.632827Z"
        },
        "id": "e5770b56"
      },
      "source": [
        "5.В утвореній вибірці в змінній `res` скільки значень `to_date` рівні `9999-01-01`, а скільки - ні? Увага! Для виконання цього завдання важливо розуміти, який тип даних у значень колонки `to_date`. Зʼясуйте це, і потім напишіть фільтр для виводу потрібного результату."
      ]
    },
    {
      "cell_type": "code",
      "execution_count": 84,
      "id": "8a9dc7e5",
      "metadata": {
        "id": "8a9dc7e5",
        "colab": {
          "base_uri": "https://localhost:8080/"
        },
        "outputId": "6c58843c-b59f-430d-cd1d-4a0abc052fb8"
      },
      "outputs": [
        {
          "output_type": "stream",
          "name": "stdout",
          "text": [
            "('emp_no', 'int', 'NO', 'PRI', None, '')\n",
            "('salary', 'int', 'NO', '', None, '')\n",
            "('from_date', 'date', 'NO', 'PRI', None, '')\n",
            "('to_date', 'date', 'NO', '', None, '')\n",
            "Кількість значень to_date, що дорівнюють 9999-01-01: 240124\n",
            "Кількість значень to_date, що не дорівнюють 9999-01-01: 60056\n"
          ]
        }
      ],
      "source": [
        "import pandas as pd\n",
        "\n",
        "cursor = con.cursor()\n",
        "\n",
        "cursor.execute(\"DESCRIBE salaries\")\n",
        "table_description = cursor.fetchall()\n",
        "\n",
        "\n",
        "for column in table_description:\n",
        "    print(column)\n",
        "\n",
        "\n",
        "cursor.execute(\"\"\"\n",
        "    SELECT s.emp_no AS employee_id, s.salary, s.from_date, s.to_date\n",
        "    FROM salaries s\n",
        "    INNER JOIN (\n",
        "        SELECT emp_no, MAX(to_date) AS last_to_date\n",
        "        FROM salaries\n",
        "        GROUP BY emp_no\n",
        "    ) AS latest ON s.emp_no = latest.emp_no\n",
        "                 AND s.to_date = latest.last_to_date\n",
        "\"\"\")\n",
        "\n",
        "\n",
        "columns = [description[0] for description in cursor.description]\n",
        "res = pd.DataFrame(cursor.fetchall(), columns=columns)\n",
        "res['to_date'] = res['to_date'].astype(str)\n",
        "count_to_date_9999 = (res['to_date'] == '9999-01-01').sum()\n",
        "count_to_date_not_9999 = (res['to_date'] != '9999-01-01').sum()\n",
        "\n",
        "\n",
        "print(\"Кількість значень to_date, що дорівнюють 9999-01-01:\", count_to_date_9999)\n",
        "print(\"Кількість значень to_date, що не дорівнюють 9999-01-01:\", count_to_date_not_9999)"
      ]
    },
    {
      "cell_type": "markdown",
      "id": "ae22c37a",
      "metadata": {
        "id": "ae22c37a"
      },
      "source": [
        "6.Виведіть візуально розподіл (гістограму) зарплат співробітників, які досі працюють в компанії, використовуючи результат попереднього завдання. Співробітниками, які досі працюють в компанії вважаємо тих, в кого to_date має значення 9999-01-01. Обовʼязково підпишіть графік і вісі.\n",
        "\n",
        "Ці три завдання - приклад, як нам може бути зручно витягнути дані з бази певним запитом, а потім використати витягнуту вибірку у Python для подальшого аналізу."
      ]
    },
    {
      "cell_type": "code",
      "execution_count": 93,
      "id": "ede9a748",
      "metadata": {
        "id": "ede9a748",
        "colab": {
          "base_uri": "https://localhost:8080/",
          "height": 564
        },
        "outputId": "8de7dfd4-bcc3-4efd-d968-b6bc64ad4b55"
      },
      "outputs": [
        {
          "output_type": "display_data",
          "data": {
            "text/plain": [
              "<Figure size 1000x600 with 1 Axes>"
            ],
            "image/png": "[encoded data removed]"
          },
          "metadata": {}
        }
      ],
      "source": [
        "import matplotlib.pyplot as plt\n",
        "\n",
        "\n",
        "active_employees_salaries = res[pd.isna(res['to_date'])]['salary']\n",
        "\n",
        "\n",
        "plt.figure(figsize=(10, 6))\n",
        "plt.hist(active_employees_salaries, bins=30, color='skyblue', edgecolor='black')\n",
        "plt.title('Розподіл зарплат співробітників, які досі працюють в компанії')\n",
        "plt.xlabel('Зарплата')\n",
        "plt.ylabel('Кількість співробітників')\n",
        "plt.grid(axis='y', alpha=0.75)\n",
        "plt.show()"
      ]
    },
    {
      "cell_type": "markdown",
      "source": [
        "Очікуваний результат:\n",
        "\n",
        "![](https://drive.google.com/uc?export=view&id=1j8MHLC1E0revbQLM9B0UJs6tVEgoWhmK)"
      ],
      "metadata": {
        "id": "AL26SP3WMJiX"
      },
      "id": "AL26SP3WMJiX"
    },
    {
      "cell_type": "markdown",
      "source": [
        "НЕ ЗАБУВАЄМО ЗАКРИТИ ПІДКЛЮЧЕННЯ ДО БАЗИ :)"
      ],
      "metadata": {
        "id": "Cp_JpGPpKmzp"
      },
      "id": "Cp_JpGPpKmzp"
    },
    {
      "cell_type": "code",
      "source": [
        "con.close()"
      ],
      "metadata": {
        "id": "WEMo9bl6KnMh"
      },
      "id": "WEMo9bl6KnMh",
      "execution_count": 94,
      "outputs": []
    }
  ],
  "metadata": {
    "kernelspec": {
      "display_name": "Python 3 (ipykernel)",
      "language": "python",
      "name": "python3"
    },
    "language_info": {
      "codemirror_mode": {
        "name": "ipython",
        "version": 3
      },
      "file_extension": ".py",
      "mimetype": "text/x-python",
      "name": "python",
      "nbconvert_exporter": "python",
      "pygments_lexer": "ipython3",
      "version": "3.10.4"
    },
    "toc": {
      "base_numbering": 1,
      "nav_menu": {},
      "number_sections": true,
      "sideBar": true,
      "skip_h1_title": false,
      "title_cell": "Table of Contents",
      "title_sidebar": "Contents",
      "toc_cell": false,
      "toc_position": {},
      "toc_section_display": true,
      "toc_window_display": false
    },
    "vscode": {
      "interpreter": {
        "hash": "a6511e6b41b26ba86cca7483749cf4dd15bf137a2672e550741a656e19bba82e"
      }
    },
    "colab": {
      "provenance": [],
      "include_colab_link": true
    }
  },
  "nbformat": 4,
  "nbformat_minor": 5
}