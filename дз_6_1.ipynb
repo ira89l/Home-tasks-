{
  "nbformat": 4,
  "nbformat_minor": 0,
  "metadata": {
    "colab": {
      "provenance": [],
      "authorship_tag": "ABX9TyMK5ujdYnmvfgpYXoLQXSqF",
      "include_colab_link": true
    },
    "kernelspec": {
      "name": "python3",
      "display_name": "Python 3"
    },
    "language_info": {
      "name": "python"
    }
  },
  "cells": [
    {
      "cell_type": "markdown",
      "metadata": {
        "id": "view-in-github",
        "colab_type": "text"
      },
      "source": [
        "<a href=\"https://colab.research.google.com/github/ira89l/Home-tasks-/blob/main/%D0%B4%D0%B7_6_1.ipynb\" target=\"_parent\"><img src=\"https://colab.research.google.com/assets/colab-badge.svg\" alt=\"Open In Colab\"/></a>"
      ]
    },
    {
      "cell_type": "markdown",
      "source": [
        "Ви —  продакт менеджер в компанії, яка займається мобільними додатками. Ваша модель монетизації — підписка. У травні 2019 року до вас приєдналося 100 підписників, у червні — 150, у липні — 170. Скільки ці користувачі принесли вам до травня 2021 року включно, якщо щомісячний рівень відтоку становить 5%, а підписка коштує $10?"
      ],
      "metadata": {
        "id": "eQbIh5vm_2aG"
      }
    },
    {
      "cell_type": "code",
      "source": [
        "price = 10\n",
        "count_may = 100\n",
        "count_juni = 150\n",
        "count_july = 170\n",
        "vidtik = 0.05\n",
        "def calculation_total (count, price, month_count, vidtik):\n",
        "  total_month = 0\n",
        "  for i in range(month_count):\n",
        "    active_clients = count * (1 - vidtik) ** i\n",
        "    total_month += active_clients * price\n",
        "  return total_month\n",
        "\n",
        "total_may = calculation_total(count_may, price, 24, vidtik)\n",
        "total_juni = calculation_total(count_may, price, 23, vidtik)\n",
        "total_july = calculation_total(count_may, price, 22, vidtik)\n",
        "total = sum([total_may, total_juni, total_july])\n",
        "print(f'Дохід загальний: {total}')"
      ],
      "metadata": {
        "colab": {
          "base_uri": "https://localhost:8080/"
        },
        "id": "HRWxcFZi82AH",
        "outputId": "6e1035f5-2440-40cf-fea7-232546bf5894"
      },
      "execution_count": null,
      "outputs": [
        {
          "output_type": "stream",
          "name": "stdout",
          "text": [
            "Дохід загальний: 41542.411259249864\n"
          ]
        }
      ]
    },
    {
      "cell_type": "markdown",
      "source": [
        "Ви — менеджер по роботі з продуктом в компанії, яка розробляє мобільні ігри. Вашою метою є збільшення кількості активних користувачів. У січні 2020 року у вас було 2000 активних користувачів. З лютого кількість активних користувачів щомісяця зростає на 3%. У той же час, 2% користувачів щомісяця перестають користуватися додатком. Якою буде кількість активних користувачів за весь період від січня 2020 року до кінця грудня 2021 року?"
      ],
      "metadata": {
        "id": "und5UCobBekd"
      }
    },
    {
      "cell_type": "code",
      "source": [
        "count_users = 2000\n",
        "addition = 0.03\n",
        "vidtik = 0.02\n",
        "\n",
        "def calculation_total_users(count_users, months, addition, vidtik):\n",
        "    total_users = 0\n",
        "    for i in range(months):\n",
        "        active_users = count_users * (1 + addition - vidtik) ** i\n",
        "        total_users += active_users\n",
        "    return total_users\n",
        "\n",
        "total_users_count = calculation_total_users(count_users, 24, addition, vidtik)\n",
        "\n",
        "print(f'Загальна кількість активних користувачів за період: {round(total_users_count)}')"
      ],
      "metadata": {
        "colab": {
          "base_uri": "https://localhost:8080/"
        },
        "id": "GZXQ1ZSaBigF",
        "outputId": "3a0743fe-2b74-4b72-8493-283c3dcae4b2"
      },
      "execution_count": 2,
      "outputs": [
        {
          "output_type": "stream",
          "name": "stdout",
          "text": [
            "Загальна кількість активних користувачів за період: 53947\n"
          ]
        }
      ]
    },
    {
      "cell_type": "markdown",
      "source": [
        "Ви — менеджер з розвитку бізнесу в компанії, що займається створенням платформи для онлайн-курсів. У січні 2021 року ви залучили 500 нових користувачів. У лютому кількість нових користувачів зросла на 50%, у березні — ще на 20%. З квітня приріст нових користувачів стабілізувався на рівні 10% щомісяця.Скільки активних користувачів ви мали загалом за перше півріччя 2021 року?"
      ],
      "metadata": {
        "id": "h2iZqi72FY8t"
      }
    },
    {
      "cell_type": "code",
      "source": [
        "begining_count = 500\n",
        "addition_every_month = [0.5, 0.3, 0.1, 0.1, 0.1]\n",
        "\n",
        "def total_count_new_clients (begining_count, addition_every_month):\n",
        "  total_count_new = begining_count\n",
        "  total_sum = 0 + begining_count\n",
        "  for i in addition_every_month:\n",
        "    total_count_new = total_count_new + (total_count_new * i)\n",
        "    total_sum += total_count_new\n",
        "  return total_sum\n",
        "total_sum_users = total_count_new_clients(begining_count, addition_every_month)\n",
        "print(f'Загальна кількість користувачів за перше півріччя 2021: {round(total_sum_users)}')\n",
        "\n",
        "# або так:\n",
        "# count_users_jan = 500\n",
        "# add_feb = 0.5\n",
        "# add_mar = 0.3\n",
        "# add_apr = 0.1\n",
        "# add_may = 0.1\n",
        "# add_jun = 0.1\n",
        "\n",
        "# new_feb = count_users_jan + (count_users_jan * add_feb)\n",
        "# new_mar = new_feb + (new_feb * add_mar)\n",
        "# new_apr = new_mar + (new_mar * add_apr)\n",
        "# new_may = new_apr + (new_apr * add_may)\n",
        "# new_jun = new_may + (new_may * add_jun)\n",
        "# total_sum = sum([count_users_jan, new_feb, new_mar, new_apr, new_may, new_jun])\n",
        "# print(total_sum)"
      ],
      "metadata": {
        "colab": {
          "base_uri": "https://localhost:8080/"
        },
        "id": "5-GnyU4FFdhl",
        "outputId": "026ef2a5-2cdb-4120-f57b-0bb6462ee948"
      },
      "execution_count": null,
      "outputs": [
        {
          "output_type": "stream",
          "name": "stdout",
          "text": [
            "Загальна кількість користувачів за перше півріччя 2021: 5775\n"
          ]
        }
      ]
    }
  ]
}